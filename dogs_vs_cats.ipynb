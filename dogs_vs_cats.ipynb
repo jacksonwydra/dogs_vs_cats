{
  "cells": [
    {
      "cell_type": "markdown",
      "metadata": {
        "collapsed": false,
        "id": "vcSOWI19uXrQ",
        "pycharm": {
          "name": "#%% md\n"
        }
      },
      "source": [
        "# Train Model"
      ]
    },
    {
      "cell_type": "markdown",
      "metadata": {
        "collapsed": false,
        "id": "K06xKxIguXrS",
        "pycharm": {
          "name": "#%% md\n"
        }
      },
      "source": [
        "## Imports"
      ]
    },
    {
      "cell_type": "code",
      "execution_count": 1,
      "metadata": {
        "colab": {
          "base_uri": "https://localhost:8080/"
        },
        "id": "aY83rai4uXrS",
        "outputId": "66927add-0810-40c0-ae88-d73476e3e1a8"
      },
      "outputs": [
        {
          "name": "stdout",
          "output_type": "stream",
          "text": [
            "Looking in indexes: https://pypi.org/simple, https://us-python.pkg.dev/colab-wheels/public/simple/\n",
            "Requirement already satisfied: split-folders in /usr/local/lib/python3.7/dist-packages (0.5.1)\n",
            "Mounted at /content/data/\n"
          ]
        }
      ],
      "source": [
        "use_colab = True\n",
        "\n",
        "if use_colab:\n",
        "  %pip install split-folders\n",
        "  from google.colab import drive\n",
        "  drive.mount('/content/data/', force_remount=True)\n",
        "  data_file = './data/MyDrive/train.zip'\n",
        "else:\n",
        "  data_file = './data/train.zip'"
      ]
    },
    {
      "cell_type": "code",
      "execution_count": 2,
      "metadata": {
        "id": "XyGpQ0vXuXrT",
        "pycharm": {
          "name": "#%%\n"
        }
      },
      "outputs": [],
      "source": [
        "import os\n",
        "import shutil\n",
        "import splitfolders\n",
        "import zipfile\n",
        "\n",
        "import torch\n",
        "import torch.nn as nn\n",
        "import torch.optim as optim\n",
        "import torch.nn.functional as F\n",
        "from torch.utils.data import DataLoader\n",
        "from torchvision import transforms, datasets\n",
        "\n",
        "import numpy as np\n",
        "import matplotlib.pyplot as plt\n",
        "from PIL import Image\n",
        "\n",
        "from dogs_vs_cats_model import DogsVsCats"
      ]
    },
    {
      "cell_type": "markdown",
      "metadata": {
        "id": "kMIEID8SuXrU"
      },
      "source": [
        "## Detect GPU if Available"
      ]
    },
    {
      "cell_type": "code",
      "execution_count": 3,
      "metadata": {
        "colab": {
          "base_uri": "https://localhost:8080/"
        },
        "id": "X_FdvFITuXrV",
        "outputId": "d5a9215e-c8c4-46e8-a20a-b7ee2fde0710"
      },
      "outputs": [
        {
          "name": "stdout",
          "output_type": "stream",
          "text": [
            "cuda\n"
          ]
        }
      ],
      "source": [
        "device = torch.device('cuda' if torch.cuda.is_available() else 'cpu')\n",
        "print(device)"
      ]
    },
    {
      "cell_type": "markdown",
      "metadata": {
        "collapsed": false,
        "id": "QCgm-oyruXrV",
        "pycharm": {
          "name": "#%% md\n"
        }
      },
      "source": [
        "## Prepare Data"
      ]
    },
    {
      "cell_type": "code",
      "execution_count": 4,
      "metadata": {
        "id": "3aG4q71suXrW",
        "pycharm": {
          "name": "#%%\n"
        }
      },
      "outputs": [],
      "source": [
        "data_zip = os.path.abspath(data_file)\n",
        "temp_dir = os.path.abspath('./train')\n",
        "input_dir = os.path.abspath('./input')\n",
        "train_dir = os.path.abspath('./input/train')\n",
        "test_dir = os.path.abspath('./input/test')\n",
        "val_dir = os.path.abspath('./input/val')\n",
        "\n",
        "def unzip_data():\n",
        "    if os.path.exists(input_dir):\n",
        "        print('Input directory already exists.')\n",
        "        return\n",
        "    \n",
        "    if not os.path.exists(data_zip):\n",
        "        print('Data not found.')\n",
        "        return\n",
        "\n",
        "    with zipfile.ZipFile(data_zip, 'r') as z:\n",
        "        z.extractall()\n",
        "\n",
        "    dog_dir = os.path.join(input_dir, 'dog')\n",
        "    cat_dir = os.path.join(input_dir, 'cat')\n",
        "    os.mkdir(input_dir)\n",
        "    os.mkdir(dog_dir)\n",
        "    os.mkdir(cat_dir)\n",
        "\n",
        "    for file_name in os.listdir(temp_dir):\n",
        "        file_path = os.path.join(temp_dir, file_name)\n",
        "        animal = file_name.split('.')[0]\n",
        "        new_file_path = os.path.join(input_dir, animal, file_name)\n",
        "        try:\n",
        "            shutil.move(file_path, new_file_path)\n",
        "        except FileNotFoundError:\n",
        "            print(f'Could not find image: {file_name}')\n",
        "\n",
        "    splitfolders.ratio(input_dir, input_dir, move=True)\n",
        "    os.rmdir(temp_dir)\n",
        "    os.rmdir(dog_dir)\n",
        "    os.rmdir(cat_dir)"
      ]
    },
    {
      "cell_type": "code",
      "execution_count": 5,
      "metadata": {
        "colab": {
          "base_uri": "https://localhost:8080/"
        },
        "id": "OyZi7eFpuXrX",
        "outputId": "2ff325f7-9c28-4670-973b-9fac2d3e9f19",
        "pycharm": {
          "name": "#%%\n"
        }
      },
      "outputs": [
        {
          "name": "stdout",
          "output_type": "stream",
          "text": [
            "Input directory already exists.\n"
          ]
        }
      ],
      "source": [
        "unzip_data()"
      ]
    },
    {
      "cell_type": "markdown",
      "metadata": {
        "id": "PAVSEKLAuXrX"
      },
      "source": [
        "## Transforms, Datasets, and Dataloaders"
      ]
    },
    {
      "cell_type": "code",
      "execution_count": 6,
      "metadata": {
        "colab": {
          "base_uri": "https://localhost:8080/"
        },
        "id": "dXLWOfy5uXrY",
        "outputId": "4710afac-7cb1-479f-b50a-5ce34fb934b4",
        "pycharm": {
          "name": "#%%\n"
        }
      },
      "outputs": [
        {
          "name": "stdout",
          "output_type": "stream",
          "text": [
            "Batch size: 256\n",
            "Number of training images: 20000 (79 batches)\n",
            "Number of testing images: 2500 (10 batches)\n",
            "Number of validation images: 2500 (10 batches)\n"
          ]
        }
      ],
      "source": [
        "mean = torch.tensor([0.4632, 0.4293, 0.3929])\n",
        "std = torch.tensor([0.2646, 0.2550, 0.2536])\n",
        "batch_size = 256\n",
        "num_workers = 2\n",
        "image_size = 128\n",
        "\n",
        "train_transform = transforms.Compose([transforms.Resize(image_size),\n",
        "                                      transforms.CenterCrop(image_size),\n",
        "                                      transforms.RandomRotation(degrees=15),\n",
        "                                      transforms.RandomHorizontalFlip(),\n",
        "                                      transforms.GaussianBlur(5),\n",
        "                                      transforms.ToTensor(),\n",
        "                                      transforms.Normalize(mean, std)])\n",
        "\n",
        "test_transform = transforms.Compose([transforms.Resize(image_size),\n",
        "                                     transforms.CenterCrop(image_size),\n",
        "                                     transforms.ToTensor(),\n",
        "                                     transforms.Normalize(mean, std)])\n",
        "\n",
        "train_dataset = datasets.ImageFolder(train_dir, transform=train_transform)\n",
        "test_dataset = datasets.ImageFolder(test_dir, transform=test_transform)\n",
        "val_dataset = datasets.ImageFolder(val_dir, transform=test_transform)\n",
        "\n",
        "train_dataloader = DataLoader(train_dataset, batch_size=batch_size, shuffle=True, num_workers=num_workers, pin_memory=True)\n",
        "test_dataloader = DataLoader(test_dataset, batch_size=batch_size, shuffle=True, num_workers=num_workers, pin_memory=True)\n",
        "val_dataloader = DataLoader(val_dataset, batch_size=batch_size, shuffle=True, num_workers=num_workers, pin_memory=True)\n",
        "\n",
        "print(f'Batch size: {batch_size}')\n",
        "print(f'Number of training images: {len(train_dataset)} ({len(train_dataloader)} batches)')\n",
        "print(f'Number of testing images: {len(test_dataset)} ({len(test_dataloader)} batches)')\n",
        "print(f'Number of validation images: {len(val_dataset)} ({len(val_dataloader)} batches)')"
      ]
    },
    {
      "cell_type": "code",
      "execution_count": 7,
      "metadata": {
        "id": "ZQOG7ZykuXrZ"
      },
      "outputs": [],
      "source": [
        "# Used to get the mean and std for the normalize transform above\n",
        "def get_mean_and_std(dataloader):\n",
        "    c_sum, c_sum_sq, num_batches = 0, 0, 0\n",
        "\n",
        "    for data, _ in dataloader:\n",
        "        c_sum += torch.mean(data, dim=[0,2,3])\n",
        "        c_sum_sq += torch.mean(data**2, dim=[0,2,3])\n",
        "        num_batches += 1\n",
        "    \n",
        "    mean = c_sum / num_batches\n",
        "    std = (c_sum_sq / num_batches - mean ** 2) ** 0.5\n",
        "\n",
        "    return mean, std\n",
        "\n",
        "# print(get_mean_and_std(train_dataloader))"
      ]
    },
    {
      "cell_type": "markdown",
      "metadata": {
        "id": "K4tY24WjuXrZ"
      },
      "source": [
        "## Display a Training Image"
      ]
    },
    {
      "cell_type": "code",
      "execution_count": 8,
      "metadata": {
        "colab": {
          "base_uri": "https://localhost:8080/",
          "height": 163
        },
        "id": "_BdzLpoZuXra",
        "outputId": "15078b21-ca4e-4719-cb97-cb0c1d20cf54",
        "pycharm": {
          "name": "#%%\n"
        }
      },
      "outputs": [
        {
          "name": "stdout",
          "output_type": "stream",
          "text": [
            "cat\n"
          ]
        },
        {
          "data": {
            "image/png": "[encoded data removed]",
            "text/plain": [
              "<PIL.Image.Image image mode=RGB size=128x128 at 0x7F091DF8ED50>"
            ]
          },
          "metadata": {},
          "output_type": "display_data"
        }
      ],
      "source": [
        "images, labels = next(iter(train_dataloader))\n",
        "to_image = transforms.ToPILImage()\n",
        "un_normalize = transforms.Normalize((-mean / std).tolist(), (1.0 / std).tolist())\n",
        "\n",
        "print('dog' if labels[0].item() else 'cat')\n",
        "display(to_image(un_normalize(images[0])))"
      ]
    },
    {
      "cell_type": "markdown",
      "metadata": {
        "id": "ftPNZrHquXrb"
      },
      "source": [
        "## Hyperparameters"
      ]
    },
    {
      "cell_type": "code",
      "execution_count": 13,
      "metadata": {
        "id": "L-f3vNO_uXrb",
        "pycharm": {
          "name": "#%%\n"
        }
      },
      "outputs": [],
      "source": [
        "model = DogsVsCats(image_size)\n",
        "model = model.to(device)\n",
        "\n",
        "epochs = 20\n",
        "lr = 0.004\n",
        "optimizer = optim.AdamW(model.parameters(), lr=lr)\n",
        "criterion = nn.CrossEntropyLoss()"
      ]
    },
    {
      "cell_type": "markdown",
      "metadata": {
        "id": "McaYPAhXuXrc"
      },
      "source": [
        "## Training"
      ]
    },
    {
      "cell_type": "code",
      "execution_count": 14,
      "metadata": {
        "colab": {
          "base_uri": "https://localhost:8080/"
        },
        "id": "lV6ejs1FuXrc",
        "outputId": "92c78da4-be8b-4336-8a9e-da282e4650ff",
        "pycharm": {
          "name": "#%%\n"
        }
      },
      "outputs": [
        {
          "name": "stdout",
          "output_type": "stream",
          "text": [
            "Epoch 0/20 (Train accuracy: 55.94%,         Validation accuracy: 61.24%\n",
            "Epoch 1/20 (Train accuracy: 64.42%,         Validation accuracy: 67.80%\n",
            "Epoch 2/20 (Train accuracy: 68.10%,         Validation accuracy: 69.16%\n",
            "Epoch 3/20 (Train accuracy: 70.18%,         Validation accuracy: 70.32%\n",
            "Epoch 4/20 (Train accuracy: 72.17%,         Validation accuracy: 71.04%\n",
            "Epoch 5/20 (Train accuracy: 74.08%,         Validation accuracy: 71.40%\n",
            "Epoch 6/20 (Train accuracy: 75.39%,         Validation accuracy: 74.84%\n",
            "Epoch 7/20 (Train accuracy: 75.56%,         Validation accuracy: 75.92%\n",
            "Epoch 8/20 (Train accuracy: 77.69%,         Validation accuracy: 77.52%\n",
            "Epoch 9/20 (Train accuracy: 77.83%,         Validation accuracy: 76.00%\n",
            "Epoch 10/20 (Train accuracy: 78.38%,         Validation accuracy: 77.16%\n",
            "Epoch 11/20 (Train accuracy: 78.94%,         Validation accuracy: 79.72%\n",
            "Epoch 12/20 (Train accuracy: 80.19%,         Validation accuracy: 79.76%\n",
            "Epoch 13/20 (Train accuracy: 80.33%,         Validation accuracy: 77.16%\n",
            "Epoch 14/20 (Train accuracy: 80.99%,         Validation accuracy: 80.40%\n",
            "Epoch 15/20 (Train accuracy: 81.69%,         Validation accuracy: 77.28%\n",
            "Epoch 16/20 (Train accuracy: 82.00%,         Validation accuracy: 81.64%\n",
            "Epoch 17/20 (Train accuracy: 82.36%,         Validation accuracy: 81.40%\n",
            "Epoch 18/20 (Train accuracy: 82.83%,         Validation accuracy: 73.88%\n",
            "Epoch 19/20 (Train accuracy: 82.20%,         Validation accuracy: 80.88%\n"
          ]
        }
      ],
      "source": [
        "train_acc = []\n",
        "val_acc = []\n",
        "\n",
        "for epoch in range(epochs):\n",
        "    model.train()\n",
        "    curr_train_acc = []\n",
        "\n",
        "    for data, target in train_dataloader:\n",
        "        data = data.to(device, non_blocking=True)\n",
        "        target = target.to(device, non_blocking=True)\n",
        "\n",
        "        optimizer.zero_grad()\n",
        "        output = model(data)\n",
        "        loss = criterion(output, target)\n",
        "        loss.backward()\n",
        "        optimizer.step()\n",
        "        \n",
        "        prediction = torch.argmax(output, dim=1)\n",
        "        curr_train_acc.extend((prediction == target).detach().cpu().numpy())\n",
        "\n",
        "    curr_train_acc = np.mean(curr_train_acc)\n",
        "    train_acc.append(curr_train_acc)\n",
        "\n",
        "    model.eval()\n",
        "    with torch.no_grad():\n",
        "        curr_val_acc = []\n",
        "\n",
        "        for data, target in val_dataloader:\n",
        "            data = data.to(device, non_blocking=True)\n",
        "            target = target.to(device, non_blocking=True)\n",
        "\n",
        "            output = model(data)\n",
        "            prediction = torch.argmax(output, dim=1)\n",
        "            curr_val_acc.extend((prediction == target).detach().cpu().numpy())\n",
        "\n",
        "    curr_val_acc = np.mean(curr_val_acc)\n",
        "    val_acc.append(curr_val_acc)\n",
        "\n",
        "    print(f'Epoch {epoch}/{epochs} (Train accuracy: {curr_train_acc * 100:.2f}%, \\\n",
        "        Validation accuracy: {curr_val_acc * 100:.2f}%')\n"
      ]
    },
    {
      "cell_type": "markdown",
      "metadata": {
        "id": "rh455WezuXrc"
      },
      "source": [
        "## Plot Accuracy"
      ]
    },
    {
      "cell_type": "code",
      "execution_count": 15,
      "metadata": {
        "colab": {
          "base_uri": "https://localhost:8080/",
          "height": 265
        },
        "id": "eQIrtPKnuXrc",
        "outputId": "2ea6a59d-f707-42c7-c4f5-679bc99e0672",
        "pycharm": {
          "name": "#%%\n"
        }
      },
      "outputs": [
        {
          "data": {
            "image/png": "[encoded data removed]",
            "text/plain": [
              "<Figure size 432x288 with 1 Axes>"
            ]
          },
          "metadata": {
            "needs_background": "light"
          },
          "output_type": "display_data"
        }
      ],
      "source": [
        "plt.plot(train_acc, label='Train accuracy')\n",
        "plt.plot(val_acc, label='Validation accuracy')\n",
        "leg = plt.legend(loc='lower right')\n",
        "plt.show()"
      ]
    },
    {
      "cell_type": "markdown",
      "metadata": {
        "id": "-4yKkDLHuXrd"
      },
      "source": [
        "## Run Model on Test Set"
      ]
    },
    {
      "cell_type": "code",
      "execution_count": 16,
      "metadata": {
        "colab": {
          "base_uri": "https://localhost:8080/"
        },
        "id": "RJkDuy-DuXrd",
        "outputId": "c577d53f-f9a1-45c2-a4c7-524c25d37b99"
      },
      "outputs": [
        {
          "name": "stdout",
          "output_type": "stream",
          "text": [
            "Testing accuracy: 82.24%\n"
          ]
        }
      ],
      "source": [
        "model.eval()\n",
        "with torch.no_grad():\n",
        "    test_acc = []\n",
        "\n",
        "    for data, target in test_dataloader:\n",
        "        data = data.to(device, non_blocking=True)\n",
        "        target = target.to(device, non_blocking=True)\n",
        "\n",
        "        output = model(data)\n",
        "        prediction = torch.argmax(output, dim=1)\n",
        "        test_acc.extend((prediction == target).detach().cpu().numpy())\n",
        "\n",
        "test_acc = np.mean(test_acc)\n",
        "print(f'Testing accuracy: {test_acc * 100:.2f}%')"
      ]
    },
    {
      "cell_type": "markdown",
      "metadata": {
        "id": "hqZbhQxXuXrd"
      },
      "source": [
        "## Save the Model"
      ]
    },
    {
      "cell_type": "code",
      "execution_count": 17,
      "metadata": {
        "id": "fw7OL24TuXrd"
      },
      "outputs": [],
      "source": [
        "torch.save(model.state_dict(), './model.pt')"
      ]
    }
  ],
  "metadata": {
    "accelerator": "GPU",
    "colab": {
      "name": "dogs_vs_cats.ipynb",
      "provenance": []
    },
    "gpuClass": "standard",
    "kernelspec": {
      "display_name": "Python 3.10.4 ('dogs_vs_cats')",
      "language": "python",
      "name": "python3"
    },
    "language_info": {
      "codemirror_mode": {
        "name": "ipython",
        "version": 3
      },
      "file_extension": ".py",
      "mimetype": "text/x-python",
      "name": "python",
      "nbconvert_exporter": "python",
      "pygments_lexer": "ipython3",
      "version": "3.10.4"
    },
    "vscode": {
      "interpreter": {
        "hash": "6e1175593ecf372e3983b742eb75c50c2800cec1b5eaad14ab2fd29afa4d68b3"
      }
    }
  },
  "nbformat": 4,
  "nbformat_minor": 0
}
